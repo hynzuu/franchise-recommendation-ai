{
 "cells": [
  {
   "cell_type": "code",
   "execution_count": 2,
   "id": "c25b5bdb",
   "metadata": {},
   "outputs": [],
   "source": [
    "import pandas as pd\n",
    "import numpy as np\n",
    "import seaborn as sns\n",
    "import matplotlib.pyplot as plt"
   ]
  },
  {
   "cell_type": "code",
   "execution_count": 25,
   "id": "b403d813",
   "metadata": {},
   "outputs": [],
   "source": [
    "import koreanize_matplotlib"
   ]
  },
  {
   "cell_type": "code",
   "execution_count": 3,
   "id": "46b36324",
   "metadata": {},
   "outputs": [
    {
     "data": {
      "text/html": [
       "<div>\n",
       "<style scoped>\n",
       "    .dataframe tbody tr th:only-of-type {\n",
       "        vertical-align: middle;\n",
       "    }\n",
       "\n",
       "    .dataframe tbody tr th {\n",
       "        vertical-align: top;\n",
       "    }\n",
       "\n",
       "    .dataframe thead th {\n",
       "        text-align: right;\n",
       "    }\n",
       "</style>\n",
       "<table border=\"1\" class=\"dataframe\">\n",
       "  <thead>\n",
       "    <tr style=\"text-align: right;\">\n",
       "      <th></th>\n",
       "      <th>jngBizCrtraYr</th>\n",
       "      <th>brandMnno</th>\n",
       "      <th>jnghdqrtrsMnno</th>\n",
       "      <th>acntgYr</th>\n",
       "      <th>indutyLclasNm</th>\n",
       "      <th>indutyMlsfcNm</th>\n",
       "      <th>areaNm</th>\n",
       "      <th>frcsCnt</th>\n",
       "      <th>fyerAvrgSlsAmtScopeVal</th>\n",
       "      <th>arFyerAvrgSlsAmtScopeVal</th>\n",
       "    </tr>\n",
       "  </thead>\n",
       "  <tbody>\n",
       "    <tr>\n",
       "      <th>0</th>\n",
       "      <td>2023</td>\n",
       "      <td>BRD_20080100006</td>\n",
       "      <td>JNG_000001</td>\n",
       "      <td>2022</td>\n",
       "      <td>서비스</td>\n",
       "      <td>교육 (외국어)</td>\n",
       "      <td>서울</td>\n",
       "      <td>21.0</td>\n",
       "      <td>37000~41000</td>\n",
       "      <td>900~1100</td>\n",
       "    </tr>\n",
       "    <tr>\n",
       "      <th>1</th>\n",
       "      <td>2023</td>\n",
       "      <td>BRD_20080100006</td>\n",
       "      <td>JNG_000001</td>\n",
       "      <td>2022</td>\n",
       "      <td>서비스</td>\n",
       "      <td>교육 (외국어)</td>\n",
       "      <td>부산</td>\n",
       "      <td>18.0</td>\n",
       "      <td>31000~35000</td>\n",
       "      <td>840~930</td>\n",
       "    </tr>\n",
       "    <tr>\n",
       "      <th>2</th>\n",
       "      <td>2023</td>\n",
       "      <td>BRD_20080100006</td>\n",
       "      <td>JNG_000001</td>\n",
       "      <td>2022</td>\n",
       "      <td>서비스</td>\n",
       "      <td>교육 (외국어)</td>\n",
       "      <td>대구</td>\n",
       "      <td>1.0</td>\n",
       "      <td>0</td>\n",
       "      <td>0</td>\n",
       "    </tr>\n",
       "    <tr>\n",
       "      <th>3</th>\n",
       "      <td>2023</td>\n",
       "      <td>BRD_20080100006</td>\n",
       "      <td>JNG_000001</td>\n",
       "      <td>2022</td>\n",
       "      <td>서비스</td>\n",
       "      <td>교육 (외국어)</td>\n",
       "      <td>인천</td>\n",
       "      <td>9.0</td>\n",
       "      <td>43000~48000</td>\n",
       "      <td>1100~1300</td>\n",
       "    </tr>\n",
       "    <tr>\n",
       "      <th>4</th>\n",
       "      <td>2023</td>\n",
       "      <td>BRD_20080100006</td>\n",
       "      <td>JNG_000001</td>\n",
       "      <td>2022</td>\n",
       "      <td>서비스</td>\n",
       "      <td>교육 (외국어)</td>\n",
       "      <td>광주</td>\n",
       "      <td>26.0</td>\n",
       "      <td>32000~36000</td>\n",
       "      <td>850~950</td>\n",
       "    </tr>\n",
       "  </tbody>\n",
       "</table>\n",
       "</div>"
      ],
      "text/plain": [
       "   jngBizCrtraYr        brandMnno jnghdqrtrsMnno  acntgYr indutyLclasNm  \\\n",
       "0           2023  BRD_20080100006     JNG_000001     2022           서비스   \n",
       "1           2023  BRD_20080100006     JNG_000001     2022           서비스   \n",
       "2           2023  BRD_20080100006     JNG_000001     2022           서비스   \n",
       "3           2023  BRD_20080100006     JNG_000001     2022           서비스   \n",
       "4           2023  BRD_20080100006     JNG_000001     2022           서비스   \n",
       "\n",
       "  indutyMlsfcNm areaNm  frcsCnt fyerAvrgSlsAmtScopeVal  \\\n",
       "0      교육 (외국어)     서울     21.0            37000~41000   \n",
       "1      교육 (외국어)     부산     18.0            31000~35000   \n",
       "2      교육 (외국어)     대구      1.0                      0   \n",
       "3      교육 (외국어)     인천      9.0            43000~48000   \n",
       "4      교육 (외국어)     광주     26.0            32000~36000   \n",
       "\n",
       "  arFyerAvrgSlsAmtScopeVal  \n",
       "0                 900~1100  \n",
       "1                  840~930  \n",
       "2                        0  \n",
       "3                1100~1300  \n",
       "4                  850~950  "
      ]
     },
     "execution_count": 3,
     "metadata": {},
     "output_type": "execute_result"
    }
   ],
   "source": [
    "df=pd.read_csv('./brand_unit_sales_2023.csv')\n",
    "df2=pd.read_csv('./brand_unit_sales_2_2023.csv')  \n",
    "df.head()"
   ]
  },
  {
   "cell_type": "code",
   "execution_count": 4,
   "id": "0b0f99f2",
   "metadata": {},
   "outputs": [
    {
     "data": {
      "text/plain": [
       "(112759, 10)"
      ]
     },
     "execution_count": 4,
     "metadata": {},
     "output_type": "execute_result"
    }
   ],
   "source": [
    "df=pd.concat([df, df2], axis=0)\n",
    "df.shape"
   ]
  },
  {
   "cell_type": "code",
   "execution_count": 5,
   "id": "588479ec",
   "metadata": {},
   "outputs": [
    {
     "name": "stdout",
     "output_type": "stream",
     "text": [
      "<class 'pandas.core.frame.DataFrame'>\n",
      "Index: 112759 entries, 0 to 51792\n",
      "Data columns (total 10 columns):\n",
      " #   Column                    Non-Null Count   Dtype  \n",
      "---  ------                    --------------   -----  \n",
      " 0   jngBizCrtraYr             112759 non-null  int64  \n",
      " 1   brandMnno                 112759 non-null  object \n",
      " 2   jnghdqrtrsMnno            112759 non-null  object \n",
      " 3   acntgYr                   112759 non-null  int64  \n",
      " 4   indutyLclasNm             112759 non-null  object \n",
      " 5   indutyMlsfcNm             112759 non-null  object \n",
      " 6   areaNm                    112759 non-null  object \n",
      " 7   frcsCnt                   107824 non-null  float64\n",
      " 8   fyerAvrgSlsAmtScopeVal    101459 non-null  object \n",
      " 9   arFyerAvrgSlsAmtScopeVal  101428 non-null  object \n",
      "dtypes: float64(1), int64(2), object(7)\n",
      "memory usage: 9.5+ MB\n"
     ]
    }
   ],
   "source": [
    "df.info()"
   ]
  },
  {
   "cell_type": "code",
   "execution_count": 6,
   "id": "56d613a6",
   "metadata": {},
   "outputs": [
    {
     "data": {
      "text/plain": [
       "jngBizCrtraYr                   0\n",
       "brandMnno                       0\n",
       "jnghdqrtrsMnno                  0\n",
       "acntgYr                         0\n",
       "indutyLclasNm                   0\n",
       "indutyMlsfcNm                   0\n",
       "areaNm                          0\n",
       "frcsCnt                      4935\n",
       "fyerAvrgSlsAmtScopeVal      11300\n",
       "arFyerAvrgSlsAmtScopeVal    11331\n",
       "dtype: int64"
      ]
     },
     "execution_count": 6,
     "metadata": {},
     "output_type": "execute_result"
    }
   ],
   "source": [
    "df.isna().sum()"
   ]
  },
  {
   "cell_type": "code",
   "execution_count": 7,
   "id": "26e4165d",
   "metadata": {},
   "outputs": [],
   "source": [
    "df.dropna(axis=0, inplace=True) "
   ]
  },
  {
   "cell_type": "code",
   "execution_count": 8,
   "id": "91eb2c3c",
   "metadata": {},
   "outputs": [
    {
     "data": {
      "text/plain": [
       "(101420, 10)"
      ]
     },
     "execution_count": 8,
     "metadata": {},
     "output_type": "execute_result"
    }
   ],
   "source": [
    "df.shape"
   ]
  },
  {
   "cell_type": "code",
   "execution_count": 9,
   "id": "15067079",
   "metadata": {},
   "outputs": [],
   "source": [
    "\n",
    "df = df.rename(columns={\n",
    "\"jngBizCrtraYr\": \"정보기준연도\",\n",
    "\"brandMnno\": \"브랜드고유번호\",\n",
    "\"jnghdqrtrsMnno\": \"본사고유번호\",\n",
    "\"acntgYr\": \"회계기준연도\",\n",
    "\"indutyLclasNm\": \"업종대분류\",\n",
    "\"indutyMlsfcNm\": \"업종중분류\",\n",
    "\"areaNm\": \"지역명\",\n",
    "\"frcsCnt\": \"지역내가맹점수\",\n",
    "\"fyerAvrgSlsAmtScopeVal\": \"연평균매출범위값\",\n",
    "\"arFyerAvrgSlsAmtScopeVal\": \"단위면적당연평균매출범위값\"\n",
    "})"
   ]
  },
  {
   "cell_type": "code",
   "execution_count": 10,
   "id": "2d2533d7",
   "metadata": {},
   "outputs": [
    {
     "data": {
      "text/html": [
       "<div>\n",
       "<style scoped>\n",
       "    .dataframe tbody tr th:only-of-type {\n",
       "        vertical-align: middle;\n",
       "    }\n",
       "\n",
       "    .dataframe tbody tr th {\n",
       "        vertical-align: top;\n",
       "    }\n",
       "\n",
       "    .dataframe thead th {\n",
       "        text-align: right;\n",
       "    }\n",
       "</style>\n",
       "<table border=\"1\" class=\"dataframe\">\n",
       "  <thead>\n",
       "    <tr style=\"text-align: right;\">\n",
       "      <th></th>\n",
       "      <th>정보기준연도</th>\n",
       "      <th>브랜드고유번호</th>\n",
       "      <th>본사고유번호</th>\n",
       "      <th>회계기준연도</th>\n",
       "      <th>업종대분류</th>\n",
       "      <th>업종중분류</th>\n",
       "      <th>지역명</th>\n",
       "      <th>지역내가맹점수</th>\n",
       "      <th>연평균매출범위값</th>\n",
       "      <th>단위면적당연평균매출범위값</th>\n",
       "    </tr>\n",
       "  </thead>\n",
       "  <tbody>\n",
       "    <tr>\n",
       "      <th>0</th>\n",
       "      <td>2023</td>\n",
       "      <td>BRD_20080100006</td>\n",
       "      <td>JNG_000001</td>\n",
       "      <td>2022</td>\n",
       "      <td>서비스</td>\n",
       "      <td>교육 (외국어)</td>\n",
       "      <td>서울</td>\n",
       "      <td>21.0</td>\n",
       "      <td>37000~41000</td>\n",
       "      <td>900~1100</td>\n",
       "    </tr>\n",
       "    <tr>\n",
       "      <th>1</th>\n",
       "      <td>2023</td>\n",
       "      <td>BRD_20080100006</td>\n",
       "      <td>JNG_000001</td>\n",
       "      <td>2022</td>\n",
       "      <td>서비스</td>\n",
       "      <td>교육 (외국어)</td>\n",
       "      <td>부산</td>\n",
       "      <td>18.0</td>\n",
       "      <td>31000~35000</td>\n",
       "      <td>840~930</td>\n",
       "    </tr>\n",
       "    <tr>\n",
       "      <th>2</th>\n",
       "      <td>2023</td>\n",
       "      <td>BRD_20080100006</td>\n",
       "      <td>JNG_000001</td>\n",
       "      <td>2022</td>\n",
       "      <td>서비스</td>\n",
       "      <td>교육 (외국어)</td>\n",
       "      <td>대구</td>\n",
       "      <td>1.0</td>\n",
       "      <td>0</td>\n",
       "      <td>0</td>\n",
       "    </tr>\n",
       "    <tr>\n",
       "      <th>3</th>\n",
       "      <td>2023</td>\n",
       "      <td>BRD_20080100006</td>\n",
       "      <td>JNG_000001</td>\n",
       "      <td>2022</td>\n",
       "      <td>서비스</td>\n",
       "      <td>교육 (외국어)</td>\n",
       "      <td>인천</td>\n",
       "      <td>9.0</td>\n",
       "      <td>43000~48000</td>\n",
       "      <td>1100~1300</td>\n",
       "    </tr>\n",
       "    <tr>\n",
       "      <th>4</th>\n",
       "      <td>2023</td>\n",
       "      <td>BRD_20080100006</td>\n",
       "      <td>JNG_000001</td>\n",
       "      <td>2022</td>\n",
       "      <td>서비스</td>\n",
       "      <td>교육 (외국어)</td>\n",
       "      <td>광주</td>\n",
       "      <td>26.0</td>\n",
       "      <td>32000~36000</td>\n",
       "      <td>850~950</td>\n",
       "    </tr>\n",
       "  </tbody>\n",
       "</table>\n",
       "</div>"
      ],
      "text/plain": [
       "   정보기준연도          브랜드고유번호      본사고유번호  회계기준연도 업종대분류     업종중분류 지역명  지역내가맹점수  \\\n",
       "0    2023  BRD_20080100006  JNG_000001    2022   서비스  교육 (외국어)  서울     21.0   \n",
       "1    2023  BRD_20080100006  JNG_000001    2022   서비스  교육 (외국어)  부산     18.0   \n",
       "2    2023  BRD_20080100006  JNG_000001    2022   서비스  교육 (외국어)  대구      1.0   \n",
       "3    2023  BRD_20080100006  JNG_000001    2022   서비스  교육 (외국어)  인천      9.0   \n",
       "4    2023  BRD_20080100006  JNG_000001    2022   서비스  교육 (외국어)  광주     26.0   \n",
       "\n",
       "      연평균매출범위값 단위면적당연평균매출범위값  \n",
       "0  37000~41000      900~1100  \n",
       "1  31000~35000       840~930  \n",
       "2            0             0  \n",
       "3  43000~48000     1100~1300  \n",
       "4  32000~36000       850~950  "
      ]
     },
     "execution_count": 10,
     "metadata": {},
     "output_type": "execute_result"
    }
   ],
   "source": [
    "df.head()"
   ]
  },
  {
   "cell_type": "code",
   "execution_count": 13,
   "id": "8661c759",
   "metadata": {},
   "outputs": [],
   "source": [
    "# 문자열 범위에서 평균 값 추출 함수\n",
    "def extract_range_mean(s):\n",
    "    if isinstance(s, str) and '~' in s:\n",
    "        low, high = map(float, s.replace(',', '').split('~'))\n",
    "        return (low + high) / 2\n",
    "    return np.nan\n",
    "\n",
    "\n",
    "# 적용\n",
    "df['연평균매출'] = df['연평균매출범위값'].apply(extract_range_mean)\n",
    "df['단위면적당연평균매출'] = df['단위면적당연평균매출범위값'].apply(extract_range_mean)\n"
   ]
  },
  {
   "cell_type": "code",
   "execution_count": 14,
   "id": "15b7fd57",
   "metadata": {},
   "outputs": [
    {
     "name": "stdout",
     "output_type": "stream",
     "text": [
      "         정보기준연도    회계기준연도        지역내가맹점수         연평균매출    단위면적당연평균매출\n",
      "count  101420.0  101420.0  101420.000000  1.280000e+04  1.244600e+04\n",
      "mean     2023.0    2022.0       5.862098  2.870686e+05  1.726550e+04\n",
      "std         0.0       0.0     100.521528  3.436376e+05  5.650794e+05\n",
      "min      2023.0    2022.0       0.000000  1.000000e+00  1.000000e+00\n",
      "25%      2023.0    2022.0       0.000000  1.050000e+05  5.100000e+03\n",
      "50%      2023.0    2022.0       0.000000  2.050000e+05  9.500000e+03\n",
      "75%      2023.0    2022.0       1.000000  3.600000e+05  1.550000e+04\n",
      "max      2023.0    2022.0   16615.000000  1.050000e+07  6.300000e+07\n",
      "지역명\n",
      "강원    237904.416910\n",
      "경기    294316.833429\n",
      "경남    226040.574273\n",
      "경북    223882.185039\n",
      "광주    296574.203125\n",
      "대구    261500.199588\n",
      "대전    287830.641791\n",
      "부산    260869.007776\n",
      "서울    358495.534586\n",
      "세종    286642.118812\n",
      "울산    249144.134483\n",
      "인천    312471.638704\n",
      "전남    238460.819718\n",
      "전북    257373.894595\n",
      "전체    304131.329023\n",
      "제주    278460.380435\n",
      "충남    251542.328482\n",
      "충북    254508.833766\n",
      "Name: 연평균매출, dtype: float64\n",
      "지역명\n",
      "강원    13605.794910\n",
      "경기    12916.870229\n",
      "경남     9418.310047\n",
      "경북     9864.743902\n",
      "광주    11511.638235\n",
      "대구    11113.827292\n",
      "대전    13558.206250\n",
      "부산    11812.437299\n",
      "서울    64638.136610\n",
      "세종    13820.938144\n",
      "울산    10892.643116\n",
      "인천    14839.632759\n",
      "전남     9343.026316\n",
      "전북    10199.909722\n",
      "전체    11871.370126\n",
      "제주    11294.206704\n",
      "충남    11207.093548\n",
      "충북    10164.180965\n",
      "Name: 단위면적당연평균매출, dtype: float64\n"
     ]
    }
   ],
   "source": [
    "# 기본 통계 요약\n",
    "print(df.describe())\n",
    "\n",
    "# 지역별 평균 매출\n",
    "print(df.groupby('지역명')['연평균매출'].mean())\n",
    "\n",
    "# 지역별 단위면적당 매출\n",
    "print(df.groupby('지역명')['단위면적당연평균매출'].mean())\n"
   ]
  },
  {
   "cell_type": "code",
   "execution_count": 15,
   "id": "8fb07768",
   "metadata": {},
   "outputs": [],
   "source": [
    "# 서울 지역 데이터만 필터링\n",
    "df_seoul = df[df['지역명'] == '서울'].copy()\n"
   ]
  },
  {
   "cell_type": "code",
   "execution_count": 16,
   "id": "97c63223",
   "metadata": {},
   "outputs": [],
   "source": [
    "def extract_range_mean(s):\n",
    "    if isinstance(s, str) and '~' in s:\n",
    "        low, high = map(float, s.replace(',', '').split('~'))\n",
    "        return (low + high) / 2\n",
    "    return np.nan\n",
    "\n",
    "# 서울 데이터에 적용\n",
    "df_seoul['연평균매출'] = df_seoul['연평균매출범위값'].apply(extract_range_mean)\n",
    "df_seoul['단위면적당연평균매출'] = df_seoul['단위면적당연평균매출범위값'].apply(extract_range_mean)\n"
   ]
  },
  {
   "cell_type": "code",
   "execution_count": 17,
   "id": "2c7ff624",
   "metadata": {},
   "outputs": [
    {
     "name": "stdout",
     "output_type": "stream",
     "text": [
      "       정보기준연도  회계기준연도      지역내가맹점수         연평균매출    단위면적당연평균매출\n",
      "count  5678.0  5678.0  5678.000000  1.330000e+03  1.292000e+03\n",
      "mean   2023.0  2022.0     8.884819  3.584955e+05  6.463814e+04\n",
      "std       0.0     0.0    75.499033  3.885481e+05  1.752323e+06\n",
      "min    2023.0  2022.0     0.000000  2.000000e+00  1.000000e+01\n",
      "25%    2023.0  2022.0     0.000000  1.400000e+05  7.400000e+03\n",
      "50%    2023.0  2022.0     1.000000  2.650000e+05  1.300000e+04\n",
      "75%    2023.0  2022.0     5.000000  4.450000e+05  2.050000e+04\n",
      "max    2023.0  2022.0  3056.000000  4.850000e+06  6.300000e+07\n",
      "업종중분류\n",
      "운송              1.623202e+06\n",
      "종합소매점           1.015000e+06\n",
      "중식              6.547917e+05\n",
      "숙박              5.775000e+05\n",
      "일식              5.279767e+05\n",
      "(건강)식품          5.100000e+05\n",
      "주점              4.883019e+05\n",
      "부동산 중개          4.750000e+05\n",
      "농수산물            4.700000e+05\n",
      "서양식             4.538235e+05\n",
      "기타도소매           4.179583e+05\n",
      "한식              4.137124e+05\n",
      "이미용             3.967333e+05\n",
      "교육 (교과)         3.933680e+05\n",
      "기타 외식           3.872819e+05\n",
      "스포츠 관련          3.871364e+05\n",
      "의류 / 패션         3.850000e+05\n",
      "패스트푸드           3.726176e+05\n",
      "편의점             3.596250e+05\n",
      "기타 외국식          3.520833e+05\n",
      "교육 (외국어)        3.515485e+05\n",
      "인력 파견           3.450000e+05\n",
      "오락              3.427000e+05\n",
      "제과제빵            3.425893e+05\n",
      "피자              3.347375e+05\n",
      "PC방             3.225000e+05\n",
      "아이스크림/빙수        3.200000e+05\n",
      "안경              3.110870e+05\n",
      "분식              2.839792e+05\n",
      "화장품             2.821429e+05\n",
      "치킨              2.792349e+05\n",
      "반려동물 관련         2.216667e+05\n",
      "자동차 관련          2.191433e+05\n",
      "이사              2.133333e+05\n",
      "기타 교육           1.920523e+05\n",
      "커피              1.911957e+05\n",
      "음료 (커피 외)       1.905588e+05\n",
      "기타 서비스          1.789032e+05\n",
      "유아 관련 (교육 외)    1.710000e+05\n",
      "임대              7.400000e+04\n",
      "세탁              6.887500e+04\n",
      "유아관련            4.815000e+04\n",
      "배달                       NaN\n",
      "약국                       NaN\n",
      "Name: 연평균매출, dtype: float64\n",
      "업종중분류\n",
      "농수산물            3.150800e+07\n",
      "인력 파견           4.650000e+04\n",
      "종합소매점           3.937500e+04\n",
      "서양식             3.655294e+04\n",
      "의류 / 패션         3.300000e+04\n",
      "(건강)식품          3.225000e+04\n",
      "편의점             2.380417e+04\n",
      "제과제빵            2.329464e+04\n",
      "분식              2.182887e+04\n",
      "피자              2.178000e+04\n",
      "일식              2.093372e+04\n",
      "화장품             2.028571e+04\n",
      "기타도소매           1.988839e+04\n",
      "패스트푸드           1.950882e+04\n",
      "아이스크림/빙수        1.855000e+04\n",
      "치킨              1.780060e+04\n",
      "중식              1.750625e+04\n",
      "기타 외식           1.749108e+04\n",
      "한식              1.667316e+04\n",
      "기타 외국식          1.656875e+04\n",
      "안경              1.650870e+04\n",
      "주점              1.340000e+04\n",
      "음료 (커피 외)       1.297647e+04\n",
      "커피              1.253901e+04\n",
      "이미용             1.152344e+04\n",
      "부동산 중개          9.800000e+03\n",
      "반려동물 관련         9.783333e+03\n",
      "기타 서비스          7.122593e+03\n",
      "기타 교육           6.289308e+03\n",
      "세탁              6.200000e+03\n",
      "PC방             5.062500e+03\n",
      "오락              4.570000e+03\n",
      "교육 (교과)         4.122609e+03\n",
      "유아 관련 (교육 외)    4.050000e+03\n",
      "교육 (외국어)        3.899387e+03\n",
      "자동차 관련          3.693077e+03\n",
      "스포츠 관련          3.204545e+03\n",
      "숙박              3.175000e+03\n",
      "임대              1.101667e+03\n",
      "유아관련            1.300000e+02\n",
      "배달                       NaN\n",
      "약국                       NaN\n",
      "운송                       NaN\n",
      "이사                       NaN\n",
      "Name: 단위면적당연평균매출, dtype: float64\n"
     ]
    }
   ],
   "source": [
    "# 기본 통계\n",
    "print(df_seoul.describe())\n",
    "\n",
    "# 업종별 평균 매출\n",
    "print(df_seoul.groupby('업종중분류')['연평균매출'].mean().sort_values(ascending=False))\n",
    "\n",
    "# 업종별 단위면적당 매출\n",
    "print(df_seoul.groupby('업종중분류')['단위면적당연평균매출'].mean().sort_values(ascending=False))\n"
   ]
  },
  {
   "cell_type": "code",
   "execution_count": 21,
   "id": "211a7509",
   "metadata": {},
   "outputs": [
    {
     "data": {
      "text/plain": [
       "정보기준연도              0\n",
       "브랜드고유번호             0\n",
       "본사고유번호              0\n",
       "회계기준연도              0\n",
       "업종대분류               0\n",
       "업종중분류               0\n",
       "지역명                 0\n",
       "지역내가맹점수             0\n",
       "연평균매출범위값            0\n",
       "단위면적당연평균매출범위값       0\n",
       "연평균매출            4348\n",
       "단위면적당연평균매출       4386\n",
       "dtype: int64"
      ]
     },
     "execution_count": 21,
     "metadata": {},
     "output_type": "execute_result"
    }
   ],
   "source": [
    "df_seoul.isna().sum()"
   ]
  },
  {
   "cell_type": "code",
   "execution_count": 22,
   "id": "74034a4d",
   "metadata": {},
   "outputs": [],
   "source": [
    "df_seoul.dropna(axis=0, inplace=True)       "
   ]
  },
  {
   "cell_type": "code",
   "execution_count": 26,
   "id": "70b9752a",
   "metadata": {},
   "outputs": [
    {
     "name": "stderr",
     "output_type": "stream",
     "text": [
      "/var/folders/q9/1gz00szn5vz5011w8pll4_8h0000gn/T/ipykernel_1074/3795259546.py:3: FutureWarning: \n",
      "\n",
      "The `ci` parameter is deprecated. Use `errorbar=None` for the same effect.\n",
      "\n",
      "  sns.barplot(data=df_seoul, x='단위면적당연평균매출', y='업종중분류', ci=None)\n"
     ]
    },
    {
     "data": {
      "image/png": "[encoded data removed]",
      "text/plain": [
       "<Figure size 1000x600 with 1 Axes>"
      ]
     },
     "metadata": {},
     "output_type": "display_data"
    }
   ],
   "source": [
    "# 업종별 단위면적당 매출\n",
    "plt.figure(figsize=(10, 6))\n",
    "sns.barplot(data=df_seoul, x='단위면적당연평균매출', y='업종중분류', ci=None)\n",
    "plt.title('서울 지역 업종별 단위면적당 매출')\n",
    "plt.xlabel('단위면적당 연매출(천원/m²)')\n",
    "plt.ylabel('업종')\n",
    "plt.tight_layout()\n",
    "plt.show()\n"
   ]
  },
  {
   "cell_type": "code",
   "execution_count": 27,
   "id": "d083e9b7",
   "metadata": {},
   "outputs": [
    {
     "name": "stdout",
     "output_type": "stream",
     "text": [
      "             지역내가맹점수     연평균매출  단위면적당연평균매출\n",
      "지역내가맹점수     1.000000  0.038371    0.002436\n",
      "연평균매출       0.038371  1.000000    0.032527\n",
      "단위면적당연평균매출  0.002436  0.032527    1.000000\n"
     ]
    },
    {
     "data": {
      "image/png": "[encoded data removed]",
      "text/plain": [
       "<Figure size 640x480 with 1 Axes>"
      ]
     },
     "metadata": {},
     "output_type": "display_data"
    }
   ],
   "source": [
    "# 상관관계 분석\n",
    "corr_seoul = df_seoul[['지역내가맹점수', '연평균매출', '단위면적당연평균매출']].corr()\n",
    "print(corr_seoul)\n",
    "\n",
    "# 산점도\n",
    "sns.scatterplot(data=df_seoul, x='지역내가맹점수', y='연평균매출')\n",
    "plt.title('서울 내 가맹점 수 vs 연평균 매출')\n",
    "plt.show()\n"
   ]
  },
  {
   "cell_type": "code",
   "execution_count": null,
   "id": "4336c7a6",
   "metadata": {},
   "outputs": [],
   "source": []
  },
  {
   "cell_type": "code",
   "execution_count": null,
   "id": "a46208b6",
   "metadata": {},
   "outputs": [],
   "source": []
  }
 ],
 "metadata": {
  "kernelspec": {
   "display_name": "Python 3",
   "language": "python",
   "name": "python3"
  },
  "language_info": {
   "codemirror_mode": {
    "name": "ipython",
    "version": 3
   },
   "file_extension": ".py",
   "mimetype": "text/x-python",
   "name": "python",
   "nbconvert_exporter": "python",
   "pygments_lexer": "ipython3",
   "version": "3.9.6"
  }
 },
 "nbformat": 4,
 "nbformat_minor": 5
}
